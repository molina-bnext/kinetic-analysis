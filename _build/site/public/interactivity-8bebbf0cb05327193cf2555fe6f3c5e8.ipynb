{
 "cells": [
  {
   "cell_type": "markdown",
   "id": "56cecf24-bf14-476a-9d10-c3360c7d5b86",
   "metadata": {},
   "source": [
    "# Interactivity"
   ]
  },
  {
   "cell_type": "markdown",
   "id": "1d88aacb",
   "metadata": {},
   "source": [
    "### This is an example of interactivity\n",
    "\n",
    "Lorem ipsum Lorem ipsum Lorem ipsum Lorem ipsum Lorem ipsum Lorem ipsum Lorem ipsum Lorem ipsum Lorem ipsum Lorem ipsum Lorem ipsum Lorem ipsum Lorem ipsum Lorem ipsum Lorem ipsum Lorem ipsum Lorem ipsum Lorem ipsum Lorem ipsum Lorem ipsum Lorem ipsum Lorem ipsum Lorem ipsum Lorem ipsum"
   ]
  },
  {
   "cell_type": "code",
   "execution_count": 3,
   "id": "912ec25a-c91f-4a2e-a227-2375c69ee38b",
   "metadata": {},
   "outputs": [
    {
     "data": {
      "application/vnd.jupyter.widget-view+json": {
       "model_id": "9960ba16754c4837a9244299e0e4b4e9",
       "version_major": 2,
       "version_minor": 0
      },
      "text/plain": [
       "IntSlider(value=0, description='Number:')"
      ]
     },
     "metadata": {},
     "output_type": "display_data"
    }
   ],
   "source": [
    "import io\n",
    "import re\n",
    "import glob\n",
    "import ipywidgets as widgets\n",
    "from IPython.display import display\n",
    "\n",
    "# Create a slider widget\n",
    "slider = widgets.IntSlider(\n",
    "    value=0,            # Initial value\n",
    "    min=0,              # Minimum value\n",
    "    max=100,            # Maximum value\n",
    "    step=1,             # Step size\n",
    "    description='Number:',  # Label for the slider\n",
    "    continuous_update=True  # Update output continuously as the slider moves\n",
    ")\n",
    "\n",
    "# Create a function to update the greeting\n",
    "def update_greeting(change):\n",
    "    change[\"new\"]\n",
    "    # print(f'Hello! You selected the number: {change[\"new\"]}')\n",
    "\n",
    "# Attach the function to the slider widget\n",
    "slider.observe(update_greeting, names='value')\n",
    "\n",
    "# Display the slider widget\n",
    "display(slider)"
   ]
  },
  {
   "cell_type": "code",
   "execution_count": null,
   "id": "d77f474f",
   "metadata": {},
   "outputs": [],
   "source": []
  }
 ],
 "metadata": {
  "kernelspec": {
   "display_name": "python3 (default)",
   "language": "python",
   "name": "python3"
  },
  "language_info": {
   "codemirror_mode": {
    "name": "ipython",
    "version": 3
   },
   "file_extension": ".py",
   "mimetype": "text/x-python",
   "name": "python",
   "nbconvert_exporter": "python",
   "pygments_lexer": "ipython3",
   "version": "3.12.2"
  }
 },
 "nbformat": 4,
 "nbformat_minor": 5
}
