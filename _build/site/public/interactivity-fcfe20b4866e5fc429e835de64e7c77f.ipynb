{
 "cells": [
  {
   "cell_type": "markdown",
   "id": "56cecf24-bf14-476a-9d10-c3360c7d5b86",
   "metadata": {},
   "source": [
    "# Interactivity"
   ]
  },
  {
   "cell_type": "markdown",
   "id": "1d88aacb",
   "metadata": {},
   "source": [
    "### This is an example of interactivity\n",
    "\n",
    "Lorem ipsum Lorem ipsum Lorem ipsum Lorem ipsum Lorem ipsum Lorem ipsum Lorem ipsum Lorem ipsum Lorem ipsum Lorem ipsum Lorem ipsum Lorem ipsum Lorem ipsum Lorem ipsum Lorem ipsum Lorem ipsum Lorem ipsum Lorem ipsum Lorem ipsum Lorem ipsum Lorem ipsum Lorem ipsum Lorem ipsum Lorem ipsum"
   ]
  },
  {
   "cell_type": "code",
   "execution_count": 41,
   "id": "912ec25a-c91f-4a2e-a227-2375c69ee38b",
   "metadata": {},
   "outputs": [],
   "source": [
    "import io\n",
    "import re\n",
    "import glob\n",
    "import ipywidgets as widgets\n",
    "from IPython.display import display\n",
    "\n",
    "# Create a text input widget\n",
    "text_input = widgets.Text(\n",
    "    value='World',\n",
    "    description='Say:',\n",
    "    disabled=False\n",
    ")\n",
    "\n",
    "# Create a function to update the greeting\n",
    "def greet(change):\n",
    "    print(f'Hello, {change[\"new\"]}!')\n",
    "\n",
    "# Attach the function to the text input widget\n",
    "text_input.observe(greet, names='value')\n",
    "\n",
    "# Display the widget\n",
    "display(text_input)"
   ]
  }
 ],
 "metadata": {
  "kernelspec": {
   "display_name": "python3 (default)",
   "language": "python",
   "name": "python3"
  },
  "language_info": {
   "codemirror_mode": {
    "name": "ipython",
    "version": 3
   },
   "file_extension": ".py",
   "mimetype": "text/x-python",
   "name": "python",
   "nbconvert_exporter": "python",
   "pygments_lexer": "ipython3",
   "version": "3.12.5"
  }
 },
 "nbformat": 4,
 "nbformat_minor": 5
}
